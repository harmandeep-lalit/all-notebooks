{
 "cells": [
  {
   "cell_type": "markdown",
   "metadata": {},
   "source": [
    "Introduction\n",
    "--------------\n",
    "\n",
    "**Ultrasound Signal Processing**\n",
    "\n",
    "Ultrasound signals are also called ultrasound RF signals because of the frequencies that they carry. The main frequency is the one of the ultrasound transducer or resonator that is used to generate the acoustic wave and to receive the same wave that is reflected by tissues.\n",
    "\n",
    "An ultrasound signal needs to be processed to obtain imaging information. The steps for forming an image in ultrasound are:\n",
    "\n",
    "1. Generate an ultrasound mechanical/acoustical wave with the transducer which is usually done by exciting electrically this transducer using a pulser (square electrical pulse of about 900V peak and short duration)\n",
    "2. Receive and digitize the ultrasound mechanical/acoustical wave by the transducer which is done by receiving the electrical signal from the transducer using a receiver (usually on the same like as the pulser, thus this device is commonly known as a pulser/receiver)\n",
    "3. The recieved and later digitized signal will have a main frequency that is the central frequency of the transducer material used to generate the ultrasound wave, usually between 1 and 10 MHz\n",
    "4. The signal is often digitized after limitation and then amplification:\n",
    "\n",
    "   a. Limitation is performed to eliminate the large voltage pulse sent to the transducer (the received signal is in the order of 2mV while the pulse is 900V)\n",
    "   \n",
    "   b. Amplification is performed after limitation and it requires usually about 40dB in gain to boost the signal to values required by most acquisition cards (around 2V)\n",
    "\n",
    "5. After acquisition we need to compensate for attenuation\n",
    "\n",
    "6. We finally require to obtain the intensity of each pixel by the envelope of the signal\n",
    "\n",
    "7. We repeat for all lines\n",
    "\n",
    "We will open and analyse the signal acquired from a pulser/receiver which was digitized by a 12-bit acquisition card sampling at $125 MHz$ with a $2 Vpp$ maximum voltage. The file provided has one single line coming from this pulser/receiver and it is stored in the file $SingleUSSignalI.dat$. The data in this file was stored by the acquisition card as unsigned integers of 16 bits.\n",
    "\n",
    "We will first plot the signal with the time scale:"
   ]
  },
  {
   "cell_type": "code",
   "execution_count": 2,
   "metadata": {},
   "outputs": [
    {
     "ename": "IOError",
     "evalue": "[Errno 2] No such file or directory: 'LabRFdata.bin'",
     "output_type": "error",
     "traceback": [
      "\u001b[1;31m---------------------------------------------------------------------------\u001b[0m",
      "\u001b[1;31mIOError\u001b[0m                                   Traceback (most recent call last)",
      "\u001b[1;32m<ipython-input-2-80dc8379f4eb>\u001b[0m in \u001b[0;36m<module>\u001b[1;34m()\u001b[0m\n\u001b[0;32m     12\u001b[0m \u001b[1;31m#we use a simple open command for the file (basic Python)\u001b[0m\u001b[1;33m\u001b[0m\u001b[1;33m\u001b[0m\u001b[0m\n\u001b[0;32m     13\u001b[0m \u001b[1;31m#Attention, the file has ALL the lines, so to show just one in this example we need to know that there is only 4096 points to graph\u001b[0m\u001b[1;33m\u001b[0m\u001b[1;33m\u001b[0m\u001b[0m\n\u001b[1;32m---> 14\u001b[1;33m \u001b[0mf\u001b[0m \u001b[1;33m=\u001b[0m \u001b[0mopen\u001b[0m\u001b[1;33m(\u001b[0m\u001b[1;34m'LabRFdata.bin'\u001b[0m\u001b[1;33m,\u001b[0m\u001b[1;34m'rb'\u001b[0m\u001b[1;33m)\u001b[0m   \u001b[1;31m# Windows\u001b[0m\u001b[1;33m\u001b[0m\u001b[0m\n\u001b[0m\u001b[0;32m     15\u001b[0m \u001b[1;31m#we read it using a numpy (therefore the np.) command that allows direct reading from file into an array\u001b[0m\u001b[1;33m\u001b[0m\u001b[1;33m\u001b[0m\u001b[0m\n\u001b[0;32m     16\u001b[0m \u001b[0mRFLines\u001b[0m \u001b[1;33m=\u001b[0m \u001b[0mnp\u001b[0m\u001b[1;33m.\u001b[0m\u001b[0mfromfile\u001b[0m\u001b[1;33m(\u001b[0m\u001b[0mf\u001b[0m\u001b[1;33m,\u001b[0m\u001b[0mcount\u001b[0m\u001b[1;33m=\u001b[0m\u001b[1;33m-\u001b[0m\u001b[1;36m1\u001b[0m\u001b[1;33m,\u001b[0m\u001b[0mdtype\u001b[0m\u001b[1;33m=\u001b[0m\u001b[0mnp\u001b[0m\u001b[1;33m.\u001b[0m\u001b[0mint16\u001b[0m\u001b[1;33m)\u001b[0m\u001b[1;33m\u001b[0m\u001b[0m\n",
      "\u001b[1;31mIOError\u001b[0m: [Errno 2] No such file or directory: 'LabRFdata.bin'"
     ]
    }
   ],
   "source": [
    "#we have first this command that initialize and matplotlib (library) for plotting and we specify that we want those plots inline in this notebook\n",
    "%matplotlib nbagg\n",
    "\n",
    "#now we import different packages that will allow to do math, lineal algebra, numerical operations, array operations and plotting\n",
    "import scipy as Sci\n",
    "import scipy.linalg\n",
    "import numpy as np\n",
    "import pylab as pl\n",
    "import matplotlib.pyplot as plt\n",
    "from scipy.signal import hilbert\n",
    "\n",
    "#we use a simple open command for the file (basic Python)\n",
    "#Attention, the file has ALL the lines, so to show just one in this example we need to know that there is only 4096 points to graph\n",
    "f = open('LabRFdata.bin','rb')   # Windows\n",
    "#we read it using a numpy (therefore the np.) command that allows direct reading from file into an array\n",
    "RFLines = np.fromfile(f,count=-1,dtype=np.int16)\n",
    "L=4096\n",
    "fc=5.208e6\n",
    "c=1483\n",
    "vlambda=c/fc\n",
    "TotalDistance=4096/4*vlambda\n",
    "Time=TotalDistance/c\n",
    "print('Depth Imaged: ' + str(TotalDistance))\n",
    "LineF = RFLines[:L]*1.\n",
    "f.close() #close the file\n",
    "#we will now populate an array for the time which we now is 1/125MHz step for a total of 15000\n",
    "x=np.arange(0,Time,Time/L)  #start,stop,step\n",
    "fs=1/(Time/L)\n",
    "print('Sampling frequency: '+ str(fs))\n",
    "#now we plot only the first line acquired (4096 samples)\n",
    "plt.plot(x,LineF[:L])\n",
    "plt.show\n",
    "plt.title('Singe Line Acquired')\n",
    "plt.xlabel('Time')\n",
    "plt.ylabel('Integer Value')\n",
    "plt.ticklabel_format(style='sci', axis='x', scilimits=(0,0))\n",
    "\n"
   ]
  },
  {
   "cell_type": "markdown",
   "metadata": {},
   "source": [
    "We will analyze this signal visually (zoom) to estimate the frequency of the transducer used.\n",
    "\n",
    "We will then perform a Fourier transform to obtain the central frequency of the transducer."
   ]
  },
  {
   "cell_type": "code",
   "execution_count": null,
   "metadata": {},
   "outputs": [],
   "source": [
    "inx1=np.where(x>7.844e-5)\n",
    "inx1=inx1[0]\n",
    "inx2=np.where(x>7.867e-5)\n",
    "inx2=inx2[0]\n",
    "plt.plot(x[inx1[0]:inx2[0]],LineF[inx1[0]:inx2[0]])\n",
    "plt.title('Zoom of Singe Line Acquired')\n",
    "plt.xlabel('Time')\n",
    "plt.ylabel('V')\n",
    "plt.ticklabel_format(style='sci', axis='x', scilimits=(0,0))"
   ]
  },
  {
   "cell_type": "markdown",
   "metadata": {},
   "source": [
    "Since 1 cycle of the signal are between $7.84\\times 10^{-5}$ and $7.867\\times ^{-5}$ we then have a frequency of $\\frac{1}{(7.867\\times 10^{-5}-7.84\\times 10^{-5})}=4.35MHz$\n",
    "\n",
    "We will now obtain this using DFT. Note: just as we did before, we will take away the dc component!"
   ]
  },
  {
   "cell_type": "code",
   "execution_count": null,
   "metadata": {},
   "outputs": [],
   "source": [
    "#Eliminating dc\n",
    "LineF-=np.mean(LineF)\n",
    "#Now let's obtain the spectrum\n",
    "#the frequencies after fft will be between 0 and 1/2 of the sampling frequency\n",
    "f=np.arange(0,fs/2,fs/L)\n",
    "Y=np.fft.fft(LineF)\n",
    "Pyy=abs(Y)/L\n",
    "#note: we are showing just L/2 elements which are the positive frequencies and we are normalizing\n",
    "\n",
    "#preparing the plotting\n",
    "plt.subplots_adjust( wspace = 1.5 )\n",
    "plt.subplot(121)\n",
    "L2=len(Pyy)/2\n",
    "\n",
    "plt.plot(f[:L2], Pyy[:L2])\n",
    "plt.title('DFT')\n",
    "plt.ticklabel_format(style='sci', axis='x', scilimits=(0,0))\n",
    "\n",
    "#Zooming into just less than 8MHz\n",
    "inx=np.where(f>8e6)\n",
    "inx=inx[0]\n",
    "plt.subplot(122)\n",
    "plt.plot(f[:inx[0]], Pyy[:inx[0]])\n",
    "plt.title('DFT')\n",
    "plt.ticklabel_format(style='sci', axis='x', scilimits=(0,0))\n",
    "\n",
    "#Let's obtain the frequency at which the maximum is observed\n",
    "#Remember we have a DFT which is mirrored, so we only work with half\n",
    "PyyM=Pyy[:L2]\n",
    "mm=np.argmax(PyyM) #this gives the index where the max is found\n",
    "print(\"The maximum is %f and it is found at index %d which is the frequency %e\" % (max(PyyM),mm,f[mm]))"
   ]
  },
  {
   "cell_type": "markdown",
   "metadata": {},
   "source": [
    "We can see that the frequency of that transducer is $4.46MHz$ and as you can see, using the DFT gave us more precision than estimation.\n",
    "The center of the bandwidth of this transducer is clearly seen (use zoom) at the $5MHz$ that the transducer works at"
   ]
  },
  {
   "cell_type": "markdown",
   "metadata": {},
   "source": [
    "Assuming that the tissues have attenuated this signal $4Np/m/MHz$ we will compensate for this attenuation and plot the real time-gain-compensated signal. The attenuation is exponential so we can compensate using:\n",
    "\n",
    "$$ RF_{com}=RF e^{\\mu d}\\;\\;\\mu=\\alpha f\\;\\;\\;\\;\\;d=ct\\;\\;\\;c\\approx 1450m/s$$\n",
    "\n",
    "We should also limit the signal since it has the large excitation pulse \n"
   ]
  },
  {
   "cell_type": "code",
   "execution_count": null,
   "metadata": {
    "collapsed": true
   },
   "outputs": [],
   "source": [
    "#Compensating (water only)\n",
    "Att=0.0022\n",
    "h=x*1450\n",
    "ffatt=np.exp(Att*fc/1e6*h)\n",
    "LineF[0:30]=0\n",
    "LineC=LineF*ffatt\n",
    "#Plotting\n",
    "plt.subplot(121)\n",
    "plt.plot(x,LineF[:L])\n",
    "plt.title('Before compensation')\n",
    "plt.xlabel('Time')\n",
    "plt.ylabel('V')\n",
    "plt.ticklabel_format(style='sci', axis='x', scilimits=(0,0))\n",
    "plt.subplot(122)\n",
    "plt.plot(x,LineC[:L])\n",
    "plt.title('After compensation')\n",
    "plt.xlabel('Time')\n",
    "plt.ylabel('V')\n",
    "plt.ticklabel_format(style='sci', axis='x', scilimits=(0,0))"
   ]
  },
  {
   "cell_type": "markdown",
   "metadata": {},
   "source": [
    "To prepare for forming an image, we will now obtain the envelope of the signal and plot. This is done using a Hilbert transform."
   ]
  },
  {
   "cell_type": "code",
   "execution_count": null,
   "metadata": {},
   "outputs": [],
   "source": [
    "#Hilbert Transform\n",
    "LineE=hilbert(LineC)\n",
    "LineE=abs(LineE)\n",
    "#Plotting\n",
    "plt.subplot(121)\n",
    "plt.plot(x,LineC[:L])\n",
    "plt.title('RF signal compensated')\n",
    "plt.xlabel('Time')\n",
    "plt.ylabel('V')\n",
    "plt.ticklabel_format(style='sci', axis='x', scilimits=(0,0))\n",
    "plt.subplot(122)\n",
    "plt.plot(x,LineE[:L])\n",
    "plt.title('Envelope of the RF')\n",
    "plt.xlabel('Time')\n",
    "plt.ylabel('V')\n",
    "plt.ticklabel_format(style='sci', axis='x', scilimits=(0,0))"
   ]
  },
  {
   "cell_type": "markdown",
   "metadata": {},
   "source": [
    "**Ultrasound Imaging Processing**\n",
    "\n",
    "We can obtain an image by repeating all those operations this time on multiple lines RF. Using the file $MultipleUSSignalsI.dat$ with the same format as before we will obtain the image.\n"
   ]
  },
  {
   "cell_type": "code",
   "execution_count": null,
   "metadata": {},
   "outputs": [],
   "source": [
    "#we have the lines in RFLines\n",
    "#we will now populate a 2D matrix for the lines\n",
    "TL=len(RFLines)/L\n",
    "print('The total lines are:'+str(TL))\n",
    "RFLinesF=RFLines*1.-np.mean(RFLines*1.)\n",
    "LinesRF=RFLinesF.reshape(TL,L).copy()  #columns,rows\n",
    "#limiting all the lines\n",
    "LinesRF[:,0:60]=0\n",
    "LinesRFLim=LinesRF[:,0:2000]\n",
    "xLim=x[0:2000]\n",
    "hLim=h[0:2000]\n",
    "#now we plot two lines acquired to double check \n",
    "print(np.shape(LinesRFLim))\n",
    "plt.subplots_adjust( hspace = .5 )\n",
    "plt.subplot(211)\n",
    "plt.plot(xLim,LinesRFLim[0,:]) #first line\n",
    "plt.title('First Line Acquired')\n",
    "plt.xlabel('Time')\n",
    "plt.ylabel('Unsigned Integer Value')\n",
    "plt.ticklabel_format(style='sci', axis='x', scilimits=(0,0))\n",
    "plt.subplot(212)\n",
    "plt.plot(xLim,LinesRFLim[10,:]) #10th line\n",
    "plt.title('Tenth Line Acquired')\n",
    "plt.xlabel('Time')\n",
    "plt.ylabel('Unsigned Integer Value')\n",
    "plt.ticklabel_format(style='sci', axis='x', scilimits=(0,0))"
   ]
  },
  {
   "cell_type": "markdown",
   "metadata": {},
   "source": [
    "We will now compensate attenuation and apply the Hilbert transform to all the 2D array.\n",
    "\n",
    "And we can then create the image (it should be logarithmic).\n"
   ]
  },
  {
   "cell_type": "code",
   "execution_count": null,
   "metadata": {},
   "outputs": [],
   "source": [
    "#Compensating\n",
    "ffatt=np.exp(Att*fc/1e6*hLim)\n",
    "LinesRFC=LinesRFLim*ffatt\n",
    "LinesRFE=hilbert(LinesRFC)\n",
    "LinesRFE=abs(LinesRFE)\n",
    "\n",
    "#images need to be logarithmic so we can see all the contrast\n",
    "Mx=LinesRFE.max()\n",
    "Image=20*np.log10(LinesRFE/Mx)\n",
    "ImageBW=LinesRFE\n",
    "\n",
    "#the line axis\n",
    "s=np.linspace(-20,20,TL)\n",
    "#Plotting\n",
    "d=hLim/2*1000  #answer: why are we doing this here?\n",
    "plt.figure()\n",
    "plt.set_cmap(plt.gray()) #grayscale\n",
    "plt.pcolormesh(d, s, Image[:, :])\n",
    "plt.axis([d.min(),d.max(),s.min(),s.max()])\n",
    "plt.axes().set_aspect(10./13)  #this is because I know the image was 20mm in lenght so 26 lines=20mm or a ratio 10/13\n",
    "plt.title('Ultrasound Image')\n",
    "plt.xlabel('Depth (mm)')\n",
    "plt.ylabel('Length (mm)')\n",
    "\n",
    "plt.figure()\n",
    "plt.set_cmap(plt.gray()) #grayscale\n",
    "plt.pcolormesh(d, s, ImageBW[:, :])\n",
    "plt.axis([d.min(),d.max(),s.min(),s.max()])\n",
    "plt.axes().set_aspect(10./13)\n",
    "plt.title('Ultrasound Image Non Logarithmic')\n",
    "plt.xlabel('Depth (mm)')\n",
    "plt.ylabel('Length (mm)')"
   ]
  },
  {
   "cell_type": "markdown",
   "metadata": {},
   "source": [
    "We will finally apply one of the most common filters that are used in ultrasound imaging: the median filter. This will make the image less \"grainy\" to the user.\n",
    "We will also implement a usual \"cutoff\" in the displayed image, anything less than -60dB will be eliminated."
   ]
  },
  {
   "cell_type": "code",
   "execution_count": null,
   "metadata": {},
   "outputs": [],
   "source": [
    "from scipy.signal import medfilt\n",
    "\n",
    "#we cut anything below -60dB\n",
    "cutdb=-60\n",
    "inx=np.where(Image<cutdb)\n",
    "Image[inx]=cutdb\n",
    "\n",
    "#and we filter using a 5x5 median filter\n",
    "ImageF=medfilt(Image,5)\n",
    "\n",
    "#Plotting\n",
    "d=hLim/2*1000\n",
    "plt.figure()\n",
    "plt.set_cmap(plt.gray()) #grayscale\n",
    "plt.pcolormesh(d, s, ImageF[:, :])\n",
    "plt.axis([d.min(),d.max(),s.min(),s.max()])\n",
    "plt.axes().set_aspect(10./13)\n",
    "plt.title('Ultrasound Image 5x5 Median Filter')\n",
    "plt.xlabel('Depth')\n",
    "plt.ylabel('Length')\n",
    "plt.ticklabel_format(style='sci', axis='x', scilimits=(0,0))\n"
   ]
  },
  {
   "cell_type": "markdown",
   "metadata": {},
   "source": [
    "## Summary"
   ]
  },
  {
   "cell_type": "markdown",
   "metadata": {},
   "source": [
    "In this example, we rendered an ultrasound image from RF signals acquired with a pulser/receiver.\n",
    "\n",
    "Test your knowledge:\n",
    "\n",
    "* Find out and discuss the effect of modifying the filter and explain briefly how a median filter works\n",
    "* Do you expect that if we process the image using the converted signal into voltage this will change the aspect in your image? why or why not?\n",
    "* What is the meaning of dB or logarithmic imaging?\n",
    "* What is the effect of changing the attenuation coefficient? Would it affect the image much if different tissues have different attenuations?\n",
    "* Why do we use a Hilbert transform to obtain the envelope?\\\\\n",
    "\n",
    "Comments and corrections welcome!"
   ]
  },
  {
   "cell_type": "markdown",
   "metadata": {},
   "source": [
    "References\n",
    "---------------\n",
    "\n",
    "* Oppenheim, A. V., and A. S. Willsky. \"Signals and Systems.\" Prentice-Hall, (1997)."
   ]
  }
 ],
 "metadata": {
  "kernelspec": {
   "display_name": "Python 2",
   "language": "python",
   "name": "python2"
  },
  "language_info": {
   "codemirror_mode": {
    "name": "ipython",
    "version": 2
   },
   "file_extension": ".py",
   "mimetype": "text/x-python",
   "name": "python",
   "nbconvert_exporter": "python",
   "pygments_lexer": "ipython2",
   "version": "2.7.14"
  }
 },
 "nbformat": 4,
 "nbformat_minor": 1
}
